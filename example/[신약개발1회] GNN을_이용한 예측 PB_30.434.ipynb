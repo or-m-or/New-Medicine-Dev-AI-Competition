{
  "nbformat": 4,
  "nbformat_minor": 0,
  "metadata": {
    "colab": {
      "provenance": []
    },
    "kernelspec": {
      "name": "python3",
      "display_name": "Python 3"
    },
    "language_info": {
      "name": "python"
    }
  },
  "cells": [
    {
      "cell_type": "code",
      "execution_count": null,
      "metadata": {
        "colab": {
          "base_uri": "https://localhost:8080/"
        },
        "id": "lxnTSeApXURo",
        "outputId": "c03d21c0-7576-40b6-df8b-94e2909c60da"
      },
      "outputs": [
        {
          "output_type": "stream",
          "name": "stdout",
          "text": [
            "Mounted at /content/gdrive\n"
          ]
        }
      ],
      "source": [
        "from google.colab import drive\n",
        "drive.mount('/content/gdrive')\n",
        "\n",
        "import os\n",
        "os.chdir('/content/gdrive/MyDrive/Colab Notebooks')"
      ]
    },
    {
      "cell_type": "code",
      "source": [
        "!pip install chemprop"
      ],
      "metadata": {
        "id": "_-pFmMSLXh25"
      },
      "execution_count": null,
      "outputs": []
    },
    {
      "cell_type": "code",
      "source": [
        "import chemprop"
      ],
      "metadata": {
        "id": "J6JZXwGLXlbY"
      },
      "execution_count": null,
      "outputs": []
    },
    {
      "cell_type": "code",
      "source": [
        "checkpoint = '/content/gdrive/MyDrive/Colab Notebooks/Mycheck'"
      ],
      "metadata": {
        "id": "KTZh4D7uXzL_"
      },
      "execution_count": null,
      "outputs": []
    },
    {
      "cell_type": "code",
      "source": [
        "arguments = [\n",
        "    '--data_path', '/content/gdrive/MyDrive/Colab Notebooks/data/train.csv',\n",
        "    '--dataset_type', 'regression',\n",
        "    '--save_dir', checkpoint,\n",
        "    '--epochs', '10',\n",
        "    '--num_folds', '2',\n",
        "    '--ensemble_size', '1',\n",
        "    '--smiles_columns', 'SMILES',\n",
        "    '--target_columns', 'MLM', 'HLM'\n",
        "]\n",
        "\n",
        "args = chemprop.args.TrainArgs().parse_args(arguments)\n",
        "mean_score, std_score = chemprop.train.cross_validate(args=args, train_func=chemprop.train.run_training)"
      ],
      "metadata": {
        "id": "xE0Ks82OX83o"
      },
      "execution_count": null,
      "outputs": []
    },
    {
      "cell_type": "code",
      "source": [
        "arguments = [\n",
        "    '--test_path', '/content/gdrive/MyDrive/Colab Notebooks/data/test.csv',\n",
        "    '--preds_path', '/content/gdrive/MyDrive/Colab Notebooks/result/myresult.csv',\n",
        "    '--checkpoint_dir', checkpoint,\n",
        "    '--smiles_columns', 'SMILES'\n",
        "]\n",
        "\n",
        "args = chemprop.args.PredictArgs().parse_args(arguments)\n",
        "preds = chemprop.train.make_predictions(args=args)"
      ],
      "metadata": {
        "id": "cogpnzzvYB73"
      },
      "execution_count": null,
      "outputs": []
    },
    {
      "cell_type": "code",
      "source": [
        "import pandas as pd\n",
        "\n",
        "result = pd.read_csv('/content/gdrive/MyDrive/Colab Notebooks/result/myresult.csv')\n",
        "\n",
        "result = result.drop(['SMILES']+ ['AlogP'] + ['Molecular_Weight'] + ['Num_H_Acceptors'] + ['Num_RotatableBonds'] + ['LogD'] + ['Molecular_PolarSurfaceArea'] +['Num_H_Donors'], axis=1)\n",
        "\n",
        "result.to_csv('/content/gdrive/MyDrive/Colab Notebooks/result/myresult.csv', index=False)"
      ],
      "metadata": {
        "id": "NXrcUitCqAjR"
      },
      "execution_count": null,
      "outputs": []
    }
  ]
}
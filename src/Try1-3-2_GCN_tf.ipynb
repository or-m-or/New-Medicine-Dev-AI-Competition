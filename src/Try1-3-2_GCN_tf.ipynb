{
 "cells": [
  {
   "cell_type": "code",
   "execution_count": null,
   "metadata": {},
   "outputs": [],
   "source": [
    "%pip install -q rdkit pandas numpy scikit-learn matplotlib seaborn tqdm tensorflow tensorflow-gnn"
   ]
  },
  {
   "cell_type": "code",
   "execution_count": null,
   "metadata": {},
   "outputs": [],
   "source": [
    "# 코랩 - 구글 드라이브 연결\n",
    "from google.colab import drive\n",
    "\n",
    "drive.mount('/content/drive')"
   ]
  },
  {
   "cell_type": "code",
   "execution_count": null,
   "metadata": {},
   "outputs": [],
   "source": [
    "import pandas as pd\n",
    "import numpy as np\n",
    "import os\n",
    "import random\n",
    "import tensorflow as tf\n",
    "import tensorflow_gnn as tfgnn\n",
    "from sklearn.model_selection import train_test_split\n",
    "from rdkit import Chem\n",
    "from rdkit.Chem import rdMolDescriptors\n",
    "\n",
    "# Configurations\n",
    "CFG = {\n",
    "    'FP_SIZE': 1024,\n",
    "    'RADIUS': 2,\n",
    "    'SEED': 42,\n",
    "    'BATCH_SIZE': 32,\n",
    "    'LR': 1e-3,\n",
    "    'EPOCHS': 10\n",
    "}\n",
    "\n",
    "def seed_everything(seed):\n",
    "    random.seed(seed)\n",
    "    np.random.seed(seed)\n",
    "    tf.random.set_seed(seed)\n",
    "\n",
    "seed_everything(CFG['SEED'])\n",
    "\n",
    "\n",
    "# 데이터셋 경로 설정\n",
    "ROOT_DIR_GOOGLEDRIVE = '/content/drive/MyDrive/Contest/New-Medinine-Dev/'\n",
    "ROOT_DIR_LOCAL = '..'"
   ]
  },
  {
   "cell_type": "code",
   "execution_count": null,
   "metadata": {},
   "outputs": [],
   "source": [
    "# SMILES 데이터를 그래프 데이터로 변환\n",
    "def smiles_to_graph(smiles):\n",
    "    mol = Chem.MolFromSmiles(smiles)\n",
    "    if mol is None:\n",
    "        return None\n",
    "\n",
    "    atom_features = []\n",
    "    for atom in mol.GetAtoms():\n",
    "        atom_features.append([atom.GetAtomicNum()])\n",
    "    atom_features = np.array(atom_features, dtype=np.float32)\n",
    "\n",
    "    edge_index = []\n",
    "    for bond in mol.GetBonds():\n",
    "        edge_index.append([bond.GetBeginAtomIdx(), bond.GetEndAtomIdx()])\n",
    "        edge_index.append([bond.GetEndAtomIdx(), bond.GetBeginAtomIdx()])\n",
    "    edge_index = np.array(edge_index, dtype=np.int32)\n",
    "\n",
    "    return atom_features, edge_index\n",
    "\n",
    "# 데이터를 그래프 형식으로 변환하고 로드\n",
    "def load_data(file_path):\n",
    "    data = pd.read_csv(file_path)\n",
    "    graphs = []\n",
    "    labels = []\n",
    "    for i, row in data.iterrows():\n",
    "        graph = smiles_to_graph(row['Smiles'])\n",
    "        if graph is not None:\n",
    "            graphs.append(graph)\n",
    "            labels.append(row['pIC50'])\n",
    "    return graphs, np.array(labels)"
   ]
  },
  {
   "cell_type": "code",
   "execution_count": null,
   "metadata": {},
   "outputs": [],
   "source": [
    "train_graphs, train_labels = load_data(f'{ROOT_DIR_GOOGLEDRIVE}/data/train.csv')\n",
    "test_graphs, _ = load_data(f'{ROOT_DIR_GOOGLEDRIVE}/data/test.csv')\n",
    "\n",
    "# 학습 및 검증 데이터 분리\n",
    "train_graphs, val_graphs, train_labels, val_labels = train_test_split(train_graphs, train_labels, test_size=0.2, random_state=CFG['SEED'])\n"
   ]
  },
  {
   "cell_type": "code",
   "execution_count": null,
   "metadata": {},
   "outputs": [],
   "source": [
    "# TensorFlow Dataset\n",
    "def create_tf_dataset(graphs, labels=None):\n",
    "    def gen():\n",
    "        for i, (atom_features, edge_index) in enumerate(graphs):\n",
    "            yield {\n",
    "                'node_features': atom_features,\n",
    "                'edge_features': np.ones(edge_index.shape[0], dtype=np.float32),  # Edge weights\n",
    "                'edge_index': edge_index.T,\n",
    "            }, labels[i] if labels is not None else 0\n",
    "    return tf.data.Dataset.from_generator(\n",
    "        gen,\n",
    "        output_signature=(\n",
    "            {\n",
    "                'node_features': tf.TensorSpec(shape=(None, 1), dtype=tf.float32),\n",
    "                'edge_features': tf.TensorSpec(shape=(None,), dtype=tf.float32),\n",
    "                'edge_index': tf.TensorSpec(shape=(2, None), dtype=tf.int32)\n",
    "            },\n",
    "            tf.TensorSpec(shape=(), dtype=tf.float32) if labels is not None else tf.TensorSpec(shape=(), dtype=tf.float32)\n",
    "        )\n",
    "    )\n",
    "\n",
    "train_ds = create_tf_dataset(train_graphs, train_labels).batch(CFG['BATCH_SIZE'])\n",
    "val_ds = create_tf_dataset(val_graphs, val_labels).batch(CFG['BATCH_SIZE'])\n",
    "test_ds = create_tf_dataset(test_graphs).batch(CFG['BATCH_SIZE'])"
   ]
  },
  {
   "cell_type": "code",
   "execution_count": null,
   "metadata": {},
   "outputs": [],
   "source": [
    "# GCN 모델 정의\n",
    "class GCNModel(tf.keras.Model):\n",
    "    def __init__(self, hidden_dim):\n",
    "        super(GCNModel, self).__init__()\n",
    "        self.gcn1 = tfgnn.keras.layers.GraphConv(units=hidden_dim)\n",
    "        self.gcn2 = tfgnn.keras.layers.GraphConv(units=hidden_dim)\n",
    "        self.dense = tf.keras.layers.Dense(1)\n",
    "\n",
    "    def call(self, inputs, training=False):\n",
    "        node_features = inputs['node_features']\n",
    "        edge_features = inputs['edge_features']\n",
    "        edge_index = inputs['edge_index']\n",
    "\n",
    "        x = self.gcn1([node_features, edge_index], training=training)\n",
    "        x = tf.nn.relu(x)\n",
    "        x = self.gcn2([x, edge_index], training=training)\n",
    "        x = tf.reduce_mean(x, axis=0)  # 그래프 풀링\n",
    "        x = self.dense(x)\n",
    "        return x\n",
    "\n",
    "# 모델 초기화 및 컴파일\n",
    "model = GCNModel(hidden_dim=64)\n",
    "model.compile(optimizer=tf.keras.optimizers.Adam(learning_rate=CFG['LR']),\n",
    "              loss='mean_squared_error')\n",
    "\n",
    "# 학습\n",
    "model.fit(train_ds, validation_data=val_ds, epochs=CFG['EPOCHS'])"
   ]
  },
  {
   "cell_type": "code",
   "execution_count": null,
   "metadata": {},
   "outputs": [],
   "source": [
    "# 테스트셋 예측\n",
    "test_y_pred = model.predict(test_ds)"
   ]
  },
  {
   "cell_type": "code",
   "execution_count": null,
   "metadata": {},
   "outputs": [],
   "source": [
    "# pIC50 -> IC50 변환 함수\n",
    "def pIC50_to_IC50(pic50_values):\n",
    "    return 10 ** (9 - pic50_values)\n",
    "\n",
    "# 제출 파일 생성\n",
    "submit = pd.read_csv('sample_submission.csv')\n",
    "submit['IC50_nM'] = pIC50_to_IC50(test_y_pred)\n",
    "submit.to_csv('baseline_submit.csv', index=False)"
   ]
  }
 ],
 "metadata": {
  "kernelspec": {
   "display_name": ".venv",
   "language": "python",
   "name": "python3"
  },
  "language_info": {
   "codemirror_mode": {
    "name": "ipython",
    "version": 3
   },
   "file_extension": ".py",
   "mimetype": "text/x-python",
   "name": "python",
   "nbconvert_exporter": "python",
   "pygments_lexer": "ipython3",
   "version": "3.11.5"
  }
 },
 "nbformat": 4,
 "nbformat_minor": 2
}
